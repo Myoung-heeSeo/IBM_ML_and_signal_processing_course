{
 "cells": [
  {
   "cell_type": "code",
   "execution_count": 1,
   "id": "40df8b0a",
   "metadata": {},
   "outputs": [
    {
     "name": "stdout",
     "output_type": "stream",
     "text": [
      "Cloning into 'HMP_Dataset'...\n",
      "remote: Enumerating objects: 865, done.\u001b[K\n",
      "remote: Total 865 (delta 0), reused 0 (delta 0), pack-reused 865\u001b[K\n",
      "Receiving objects: 100% (865/865), 1010.96 KiB | 14.04 MiB/s, done.\n"
     ]
    }
   ],
   "source": [
    "!git clone https://github.com/wchill/HMP_Dataset.git"
   ]
  },
  {
   "cell_type": "code",
   "execution_count": 2,
   "id": "79353fdf",
   "metadata": {},
   "outputs": [
    {
     "name": "stdout",
     "output_type": "stream",
     "text": [
      "\u001b[1m\u001b[36mBrush_teeth\u001b[m\u001b[m/    \u001b[1m\u001b[36mDrink_glass\u001b[m\u001b[m/    \u001b[1m\u001b[36mLiedown_bed\u001b[m\u001b[m/    \u001b[1m\u001b[36mSitdown_chair\u001b[m\u001b[m/  final.py\r\n",
      "\u001b[1m\u001b[36mClimb_stairs\u001b[m\u001b[m/   \u001b[1m\u001b[36mEat_meat\u001b[m\u001b[m/       MANUAL.txt      \u001b[1m\u001b[36mStandup_chair\u001b[m\u001b[m/  impdata.py\r\n",
      "\u001b[1m\u001b[36mComb_hair\u001b[m\u001b[m/      \u001b[1m\u001b[36mEat_soup\u001b[m\u001b[m/       \u001b[1m\u001b[36mPour_water\u001b[m\u001b[m/     \u001b[1m\u001b[36mUse_telephone\u001b[m\u001b[m/\r\n",
      "\u001b[1m\u001b[36mDescend_stairs\u001b[m\u001b[m/ \u001b[1m\u001b[36mGetup_bed\u001b[m\u001b[m/      README.txt      \u001b[1m\u001b[36mWalk\u001b[m\u001b[m/\r\n"
     ]
    }
   ],
   "source": [
    "ls HMP_Dataset/"
   ]
  },
  {
   "cell_type": "code",
   "execution_count": 3,
   "id": "152feae8",
   "metadata": {},
   "outputs": [
    {
     "name": "stdout",
     "output_type": "stream",
     "text": [
      "Accelerometer-2011-04-11-13-28-18-brush_teeth-f1.txt\r\n",
      "Accelerometer-2011-04-11-13-29-54-brush_teeth-f1.txt\r\n",
      "Accelerometer-2011-05-30-08-35-11-brush_teeth-f1.txt\r\n",
      "Accelerometer-2011-05-30-09-36-50-brush_teeth-f1.txt\r\n",
      "Accelerometer-2011-05-30-10-34-16-brush_teeth-m1.txt\r\n",
      "Accelerometer-2011-05-30-21-10-57-brush_teeth-f1.txt\r\n",
      "Accelerometer-2011-05-30-21-55-04-brush_teeth-m2.txt\r\n",
      "Accelerometer-2011-05-31-15-16-47-brush_teeth-f1.txt\r\n",
      "Accelerometer-2011-06-02-10-42-22-brush_teeth-f1.txt\r\n",
      "Accelerometer-2011-06-02-10-45-50-brush_teeth-f1.txt\r\n",
      "Accelerometer-2011-06-06-10-45-27-brush_teeth-f1.txt\r\n",
      "Accelerometer-2011-06-06-10-48-05-brush_teeth-f1.txt\r\n"
     ]
    }
   ],
   "source": [
    "!ls HMP_Dataset/Brush_teeth/"
   ]
  },
  {
   "cell_type": "code",
   "execution_count": 9,
   "id": "b086cf5c",
   "metadata": {},
   "outputs": [
    {
     "ename": "ModuleNotFoundError",
     "evalue": "No module named 'pyspark'",
     "output_type": "error",
     "traceback": [
      "\u001b[0;31m---------------------------------------------------------------------------\u001b[0m",
      "\u001b[0;31mModuleNotFoundError\u001b[0m                       Traceback (most recent call last)",
      "\u001b[0;32m/var/folders/18/k8mwhjnj6536phzn143lxpd00000gn/T/ipykernel_94657/728468755.py\u001b[0m in \u001b[0;36m<module>\u001b[0;34m\u001b[0m\n\u001b[0;32m----> 1\u001b[0;31m \u001b[0;32mfrom\u001b[0m \u001b[0mpyspark\u001b[0m\u001b[0;34m.\u001b[0m\u001b[0msql\u001b[0m\u001b[0;34m.\u001b[0m\u001b[0mtypes\u001b[0m \u001b[0;32mimport\u001b[0m \u001b[0mStructType\u001b[0m\u001b[0;34m,\u001b[0m \u001b[0mStructField\u001b[0m\u001b[0;34m,\u001b[0m \u001b[0mIntegerType\u001b[0m\u001b[0;34m\u001b[0m\u001b[0;34m\u001b[0m\u001b[0m\n\u001b[0m",
      "\u001b[0;31mModuleNotFoundError\u001b[0m: No module named 'pyspark'"
     ]
    }
   ],
   "source": [
    "from pyspark.sql.types import StructType, StructField, IntegerType"
   ]
  }
 ],
 "metadata": {
  "kernelspec": {
   "display_name": "Python 3 (ipykernel)",
   "language": "python",
   "name": "python3"
  },
  "language_info": {
   "codemirror_mode": {
    "name": "ipython",
    "version": 3
   },
   "file_extension": ".py",
   "mimetype": "text/x-python",
   "name": "python",
   "nbconvert_exporter": "python",
   "pygments_lexer": "ipython3",
   "version": "3.9.13"
  }
 },
 "nbformat": 4,
 "nbformat_minor": 5
}
