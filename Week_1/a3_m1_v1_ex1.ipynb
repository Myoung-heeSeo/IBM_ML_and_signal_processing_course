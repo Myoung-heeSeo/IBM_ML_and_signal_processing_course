{
 "cells": [
  {
   "cell_type": "code",
   "execution_count": 1,
   "id": "e6e6dd73",
   "metadata": {},
   "outputs": [
    {
     "data": {
      "text/plain": [
       "6"
      ]
     },
     "execution_count": 1,
     "metadata": {},
     "output_type": "execute_result"
    }
   ],
   "source": [
    "n = 3\n",
    "m = 2\n",
    "n * 2"
   ]
  },
  {
   "cell_type": "code",
   "execution_count": 2,
   "id": "57c2c911",
   "metadata": {},
   "outputs": [],
   "source": [
    "import numpy as np"
   ]
  },
  {
   "cell_type": "code",
   "execution_count": 3,
   "id": "ce514b17",
   "metadata": {},
   "outputs": [],
   "source": [
    "a = np.array([1, 2, 3]) # Vector a\n",
    "b = np.array([4, 5, 6]) # Vector b"
   ]
  },
  {
   "cell_type": "code",
   "execution_count": 4,
   "id": "54682e9e",
   "metadata": {},
   "outputs": [
    {
     "data": {
      "text/plain": [
       "32"
      ]
     },
     "execution_count": 4,
     "metadata": {},
     "output_type": "execute_result"
    }
   ],
   "source": [
    "a.dot(b) # multiply a and b"
   ]
  },
  {
   "cell_type": "code",
   "execution_count": 6,
   "id": "c078b7e6",
   "metadata": {},
   "outputs": [],
   "source": [
    "ma = np.array([[1, 2, 3], [7, 8, 9]]) # Matrix ma\n",
    "mb = np.array([4, 5, 6]) # Matrix mb"
   ]
  },
  {
   "cell_type": "code",
   "execution_count": 7,
   "id": "efbbd2e8",
   "metadata": {},
   "outputs": [
    {
     "data": {
      "text/plain": [
       "array([ 32, 122])"
      ]
     },
     "execution_count": 7,
     "metadata": {},
     "output_type": "execute_result"
    }
   ],
   "source": [
    "ma.dot(mb)"
   ]
  }
 ],
 "metadata": {
  "kernelspec": {
   "display_name": "Python 3 (ipykernel)",
   "language": "python",
   "name": "python3"
  },
  "language_info": {
   "codemirror_mode": {
    "name": "ipython",
    "version": 3
   },
   "file_extension": ".py",
   "mimetype": "text/x-python",
   "name": "python",
   "nbconvert_exporter": "python",
   "pygments_lexer": "ipython3",
   "version": "3.9.13"
  }
 },
 "nbformat": 4,
 "nbformat_minor": 5
}
